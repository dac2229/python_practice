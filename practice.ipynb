{
 "cells": [
  {
   "cell_type": "code",
   "execution_count": null,
   "metadata": {},
   "outputs": [],
   "source": [
    "'''\n",
    "coding practice to sharpen skills\n",
    "Following questions are from: https://www.codinginterview.com/apple-interview-questions\n",
    "'''"
   ]
  },
  {
   "cell_type": "code",
   "execution_count": 2,
   "metadata": {},
   "outputs": [
    {
     "name": "stdout",
     "output_type": "stream",
     "text": [
      "True\n",
      "True\n",
      "True\n",
      "True\n",
      "True\n",
      "True\n",
      "True\n",
      "True\n",
      "True\n",
      "True\n",
      "True\n",
      "False\n"
     ]
    }
   ],
   "source": [
    "#Question 1\n",
    "'''\n",
    "Given an array of integers and a value, determine if there are any three integers in the array whose sum equals the given value.\n",
    "'''\n",
    "\n",
    "arry= [1,2,3,4,5]\n",
    "required_sum = 10\n",
    "\n",
    "def find_sum_of_two(A, val, start_index):\n",
    "  i = start_index\n",
    "  j = len(A) - 1\n",
    "  while i < j:\n",
    "    s = A[i] + A[j]\n",
    "    if s == val:\n",
    "      return True\n",
    "\n",
    "    if s < val:\n",
    "      i += 1\n",
    "    else:\n",
    "      j -= 1\n",
    "\n",
    "  return False\n",
    "\n",
    "def find_sum_of_three_v3(arr, required_sum):\n",
    "  arr.sort()\n",
    "  for i in range(0, len(arr)-2):\n",
    "    remaining_sum = required_sum - arr[i]\n",
    "    if find_sum_of_two(arr, remaining_sum, i+1):\n",
    "      return True\n",
    "\n",
    "  return False\n",
    "\n",
    "def test():\n",
    "  arr = [-25, -10, -7, -3, 2, 4, 8, 10]\n",
    "  print(find_sum_of_three_v3(arr, -8)) \n",
    "  print(find_sum_of_three_v3(arr, -25))\n",
    "  print(find_sum_of_three_v3(arr, 0))\n",
    "  print(find_sum_of_three_v3(arr, -42))\n",
    "  print(find_sum_of_three_v3(arr, 22))\n",
    "  print(find_sum_of_three_v3(arr, -7))\n",
    "  print(find_sum_of_three_v3(arr, -3)) \n",
    "  print(find_sum_of_three_v3(arr, 2)) \n",
    "  print(find_sum_of_three_v3(arr, 4)) \n",
    "  print(find_sum_of_three_v3(arr, 8))\n",
    "  print(find_sum_of_three_v3(arr, 7)) \n",
    "  print(find_sum_of_three_v3(arr, 1))\n",
    "  \n",
    "test()\n",
    "\n",
    "\n",
    "\n",
    "    "
   ]
  },
  {
   "cell_type": "code",
   "execution_count": 5,
   "metadata": {},
   "outputs": [
    {
     "name": "stdout",
     "output_type": "stream",
     "text": [
      "aa\n",
      "bb\n",
      "bbb\n",
      "abbba\n",
      "aabbbaa\n",
      "bb\n",
      "aa\n",
      "Total palindrome substrings:  7\n"
     ]
    }
   ],
   "source": [
    "def find_palindromes_in_sub_string(input, j, k):\n",
    "  count = 0\n",
    "  print(j,k)\n",
    "  while j >= 0 and k < len(input):\n",
    "    \n",
    "    if input[j] != input[k]:\n",
    "      break\n",
    "    print(input[j: k + 1])\n",
    "    count += 1\n",
    "\n",
    "    j -= 1\n",
    "    k += 1\n",
    "\n",
    "  return count\n",
    "\n",
    "\n",
    "def find_all_palindrome_substrings(input):\n",
    "  count = 0\n",
    "  for i in range(0, len(input)):\n",
    "    count += find_palindromes_in_sub_string(input, i - 1, i + 1)\n",
    "    count += find_palindromes_in_sub_string(input, i, i + 1)\n",
    "\n",
    "  return count\n",
    "\n",
    "\n",
    "s = \"aabbbaa\";\n",
    "print(\"Total palindrome substrings: \", find_all_palindrome_substrings(s))"
   ]
  }
 ],
 "metadata": {
  "interpreter": {
   "hash": "bbdaddd9e6c2e3b66fb662397e02b2cada7c333b73967fd0430b94f7aae068d9"
  },
  "kernelspec": {
   "display_name": "Python 3.8.5 ('base')",
   "language": "python",
   "name": "python3"
  },
  "language_info": {
   "codemirror_mode": {
    "name": "ipython",
    "version": 3
   },
   "file_extension": ".py",
   "mimetype": "text/x-python",
   "name": "python",
   "nbconvert_exporter": "python",
   "pygments_lexer": "ipython3",
   "version": "3.8.5"
  },
  "orig_nbformat": 4
 },
 "nbformat": 4,
 "nbformat_minor": 2
}
